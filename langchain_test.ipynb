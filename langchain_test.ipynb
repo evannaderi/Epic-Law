{
 "cells": [
  {
   "cell_type": "code",
   "execution_count": 1,
   "metadata": {},
   "outputs": [
    {
     "data": {
      "text/plain": [
       "False"
      ]
     },
     "execution_count": 1,
     "metadata": {},
     "output_type": "execute_result"
    }
   ],
   "source": [
    "# PDF Loaders. If unstructured gives you a hard time, try PyPDFLoader\n",
    "from langchain.document_loaders import UnstructuredPDFLoader, OnlinePDFLoader, PyPDFLoader\n",
    "from langchain.text_splitter import RecursiveCharacterTextSplitter\n",
    "import os\n",
    "from dotenv import load_dotenv\n",
    "\n",
    "load_dotenv()"
   ]
  },
  {
   "cell_type": "code",
   "execution_count": 2,
   "metadata": {},
   "outputs": [],
   "source": [
    "loader = UnstructuredPDFLoader('documents/report.pdf')\n",
    "api_key = os.getenv('OPENAI_API_KEY')"
   ]
  },
  {
   "cell_type": "code",
   "execution_count": 3,
   "metadata": {},
   "outputs": [
    {
     "ename": "TesseractNotFoundError",
     "evalue": "tesseract is not installed or it's not in your PATH. See README file for more information.",
     "output_type": "error",
     "traceback": [
      "\u001b[1;31m---------------------------------------------------------------------------\u001b[0m",
      "\u001b[1;31mFileNotFoundError\u001b[0m                         Traceback (most recent call last)",
      "File \u001b[1;32mc:\\Users\\ozymandio\\AppData\\Local\\Programs\\Python\\Python311\\Lib\\site-packages\\unstructured_pytesseract\\pytesseract.py:270\u001b[0m, in \u001b[0;36mrun_tesseract\u001b[1;34m(input_filename, output_filename_base, extension, lang, config, nice, timeout)\u001b[0m\n\u001b[0;32m    269\u001b[0m \u001b[39mtry\u001b[39;00m:\n\u001b[1;32m--> 270\u001b[0m     proc \u001b[39m=\u001b[39m subprocess\u001b[39m.\u001b[39;49mPopen(cmd_args, \u001b[39m*\u001b[39;49m\u001b[39m*\u001b[39;49msubprocess_args())\n\u001b[0;32m    271\u001b[0m \u001b[39mexcept\u001b[39;00m \u001b[39mOSError\u001b[39;00m \u001b[39mas\u001b[39;00m e:\n",
      "File \u001b[1;32mc:\\Users\\ozymandio\\AppData\\Local\\Programs\\Python\\Python311\\Lib\\subprocess.py:1026\u001b[0m, in \u001b[0;36mPopen.__init__\u001b[1;34m(self, args, bufsize, executable, stdin, stdout, stderr, preexec_fn, close_fds, shell, cwd, env, universal_newlines, startupinfo, creationflags, restore_signals, start_new_session, pass_fds, user, group, extra_groups, encoding, errors, text, umask, pipesize, process_group)\u001b[0m\n\u001b[0;32m   1023\u001b[0m             \u001b[39mself\u001b[39m\u001b[39m.\u001b[39mstderr \u001b[39m=\u001b[39m io\u001b[39m.\u001b[39mTextIOWrapper(\u001b[39mself\u001b[39m\u001b[39m.\u001b[39mstderr,\n\u001b[0;32m   1024\u001b[0m                     encoding\u001b[39m=\u001b[39mencoding, errors\u001b[39m=\u001b[39merrors)\n\u001b[1;32m-> 1026\u001b[0m     \u001b[39mself\u001b[39;49m\u001b[39m.\u001b[39;49m_execute_child(args, executable, preexec_fn, close_fds,\n\u001b[0;32m   1027\u001b[0m                         pass_fds, cwd, env,\n\u001b[0;32m   1028\u001b[0m                         startupinfo, creationflags, shell,\n\u001b[0;32m   1029\u001b[0m                         p2cread, p2cwrite,\n\u001b[0;32m   1030\u001b[0m                         c2pread, c2pwrite,\n\u001b[0;32m   1031\u001b[0m                         errread, errwrite,\n\u001b[0;32m   1032\u001b[0m                         restore_signals,\n\u001b[0;32m   1033\u001b[0m                         gid, gids, uid, umask,\n\u001b[0;32m   1034\u001b[0m                         start_new_session, process_group)\n\u001b[0;32m   1035\u001b[0m \u001b[39mexcept\u001b[39;00m:\n\u001b[0;32m   1036\u001b[0m     \u001b[39m# Cleanup if the child failed starting.\u001b[39;00m\n",
      "File \u001b[1;32mc:\\Users\\ozymandio\\AppData\\Local\\Programs\\Python\\Python311\\Lib\\subprocess.py:1538\u001b[0m, in \u001b[0;36mPopen._execute_child\u001b[1;34m(self, args, executable, preexec_fn, close_fds, pass_fds, cwd, env, startupinfo, creationflags, shell, p2cread, p2cwrite, c2pread, c2pwrite, errread, errwrite, unused_restore_signals, unused_gid, unused_gids, unused_uid, unused_umask, unused_start_new_session, unused_process_group)\u001b[0m\n\u001b[0;32m   1537\u001b[0m \u001b[39mtry\u001b[39;00m:\n\u001b[1;32m-> 1538\u001b[0m     hp, ht, pid, tid \u001b[39m=\u001b[39m _winapi\u001b[39m.\u001b[39mCreateProcess(executable, args,\n\u001b[0;32m   1539\u001b[0m                              \u001b[39m# no special security\u001b[39;00m\n\u001b[0;32m   1540\u001b[0m                              \u001b[39mNone\u001b[39;00m, \u001b[39mNone\u001b[39;00m,\n\u001b[0;32m   1541\u001b[0m                              \u001b[39mint\u001b[39m(\u001b[39mnot\u001b[39;00m close_fds),\n\u001b[0;32m   1542\u001b[0m                              creationflags,\n\u001b[0;32m   1543\u001b[0m                              env,\n\u001b[0;32m   1544\u001b[0m                              cwd,\n\u001b[0;32m   1545\u001b[0m                              startupinfo)\n\u001b[0;32m   1546\u001b[0m \u001b[39mfinally\u001b[39;00m:\n\u001b[0;32m   1547\u001b[0m     \u001b[39m# Child is launched. Close the parent's copy of those pipe\u001b[39;00m\n\u001b[0;32m   1548\u001b[0m     \u001b[39m# handles that only the child should have open.  You need\u001b[39;00m\n\u001b[1;32m   (...)\u001b[0m\n\u001b[0;32m   1551\u001b[0m     \u001b[39m# pipe will not close when the child process exits and the\u001b[39;00m\n\u001b[0;32m   1552\u001b[0m     \u001b[39m# ReadFile will hang.\u001b[39;00m\n",
      "\u001b[1;31mFileNotFoundError\u001b[0m: [WinError 2] The system cannot find the file specified",
      "\nDuring handling of the above exception, another exception occurred:\n",
      "\u001b[1;31mTesseractNotFoundError\u001b[0m                    Traceback (most recent call last)",
      "\u001b[1;32md:\\code\\Epic-Law\\langchain_test.ipynb Cell 3\u001b[0m line \u001b[0;36m1\n\u001b[1;32m----> <a href='vscode-notebook-cell:/d%3A/code/Epic-Law/langchain_test.ipynb#W3sZmlsZQ%3D%3D?line=0'>1</a>\u001b[0m data \u001b[39m=\u001b[39m loader\u001b[39m.\u001b[39;49mload()\n\u001b[0;32m      <a href='vscode-notebook-cell:/d%3A/code/Epic-Law/langchain_test.ipynb#W3sZmlsZQ%3D%3D?line=1'>2</a>\u001b[0m \u001b[39mprint\u001b[39m(\u001b[39mf\u001b[39m\u001b[39m'\u001b[39m\u001b[39mYou have \u001b[39m\u001b[39m{\u001b[39;00m\u001b[39mlen\u001b[39m(data)\u001b[39m}\u001b[39;00m\u001b[39m documents in your data\u001b[39m\u001b[39m'\u001b[39m)\n",
      "File \u001b[1;32mc:\\Users\\ozymandio\\AppData\\Local\\Programs\\Python\\Python311\\Lib\\site-packages\\langchain\\document_loaders\\unstructured.py:86\u001b[0m, in \u001b[0;36mUnstructuredBaseLoader.load\u001b[1;34m(self)\u001b[0m\n\u001b[0;32m     84\u001b[0m \u001b[39mdef\u001b[39;00m \u001b[39mload\u001b[39m(\u001b[39mself\u001b[39m) \u001b[39m-\u001b[39m\u001b[39m>\u001b[39m List[Document]:\n\u001b[0;32m     85\u001b[0m \u001b[39m    \u001b[39m\u001b[39m\"\"\"Load file.\"\"\"\u001b[39;00m\n\u001b[1;32m---> 86\u001b[0m     elements \u001b[39m=\u001b[39m \u001b[39mself\u001b[39;49m\u001b[39m.\u001b[39;49m_get_elements()\n\u001b[0;32m     87\u001b[0m     \u001b[39mself\u001b[39m\u001b[39m.\u001b[39m_post_process_elements(elements)\n\u001b[0;32m     88\u001b[0m     \u001b[39mif\u001b[39;00m \u001b[39mself\u001b[39m\u001b[39m.\u001b[39mmode \u001b[39m==\u001b[39m \u001b[39m\"\u001b[39m\u001b[39melements\u001b[39m\u001b[39m\"\u001b[39m:\n",
      "File \u001b[1;32mc:\\Users\\ozymandio\\AppData\\Local\\Programs\\Python\\Python311\\Lib\\site-packages\\langchain\\document_loaders\\pdf.py:59\u001b[0m, in \u001b[0;36mUnstructuredPDFLoader._get_elements\u001b[1;34m(self)\u001b[0m\n\u001b[0;32m     56\u001b[0m \u001b[39mdef\u001b[39;00m \u001b[39m_get_elements\u001b[39m(\u001b[39mself\u001b[39m) \u001b[39m-\u001b[39m\u001b[39m>\u001b[39m List:\n\u001b[0;32m     57\u001b[0m     \u001b[39mfrom\u001b[39;00m \u001b[39munstructured\u001b[39;00m\u001b[39m.\u001b[39;00m\u001b[39mpartition\u001b[39;00m\u001b[39m.\u001b[39;00m\u001b[39mpdf\u001b[39;00m \u001b[39mimport\u001b[39;00m partition_pdf\n\u001b[1;32m---> 59\u001b[0m     \u001b[39mreturn\u001b[39;00m partition_pdf(filename\u001b[39m=\u001b[39;49m\u001b[39mself\u001b[39;49m\u001b[39m.\u001b[39;49mfile_path, \u001b[39m*\u001b[39;49m\u001b[39m*\u001b[39;49m\u001b[39mself\u001b[39;49m\u001b[39m.\u001b[39;49munstructured_kwargs)\n",
      "File \u001b[1;32mc:\\Users\\ozymandio\\AppData\\Local\\Programs\\Python\\Python311\\Lib\\site-packages\\unstructured\\documents\\elements.py:280\u001b[0m, in \u001b[0;36mprocess_metadata.<locals>.decorator.<locals>.wrapper\u001b[1;34m(*args, **kwargs)\u001b[0m\n\u001b[0;32m    278\u001b[0m \u001b[39m@functools\u001b[39m\u001b[39m.\u001b[39mwraps(func)\n\u001b[0;32m    279\u001b[0m \u001b[39mdef\u001b[39;00m \u001b[39mwrapper\u001b[39m(\u001b[39m*\u001b[39margs: _P\u001b[39m.\u001b[39margs, \u001b[39m*\u001b[39m\u001b[39m*\u001b[39mkwargs: _P\u001b[39m.\u001b[39mkwargs) \u001b[39m-\u001b[39m\u001b[39m>\u001b[39m List[Element]:\n\u001b[1;32m--> 280\u001b[0m     elements \u001b[39m=\u001b[39m func(\u001b[39m*\u001b[39;49margs, \u001b[39m*\u001b[39;49m\u001b[39m*\u001b[39;49mkwargs)\n\u001b[0;32m    281\u001b[0m     sig \u001b[39m=\u001b[39m inspect\u001b[39m.\u001b[39msignature(func)\n\u001b[0;32m    282\u001b[0m     params: Dict[\u001b[39mstr\u001b[39m, Any] \u001b[39m=\u001b[39m \u001b[39mdict\u001b[39m(\u001b[39m*\u001b[39m\u001b[39m*\u001b[39m\u001b[39mdict\u001b[39m(\u001b[39mzip\u001b[39m(sig\u001b[39m.\u001b[39mparameters, args)), \u001b[39m*\u001b[39m\u001b[39m*\u001b[39mkwargs)\n",
      "File \u001b[1;32mc:\\Users\\ozymandio\\AppData\\Local\\Programs\\Python\\Python311\\Lib\\site-packages\\unstructured\\file_utils\\filetype.py:551\u001b[0m, in \u001b[0;36madd_metadata_with_filetype.<locals>.decorator.<locals>.wrapper\u001b[1;34m(*args, **kwargs)\u001b[0m\n\u001b[0;32m    549\u001b[0m \u001b[39m@functools\u001b[39m\u001b[39m.\u001b[39mwraps(func)\n\u001b[0;32m    550\u001b[0m \u001b[39mdef\u001b[39;00m \u001b[39mwrapper\u001b[39m(\u001b[39m*\u001b[39margs: _P\u001b[39m.\u001b[39margs, \u001b[39m*\u001b[39m\u001b[39m*\u001b[39mkwargs: _P\u001b[39m.\u001b[39mkwargs) \u001b[39m-\u001b[39m\u001b[39m>\u001b[39m List[Element]:\n\u001b[1;32m--> 551\u001b[0m     elements \u001b[39m=\u001b[39m func(\u001b[39m*\u001b[39;49margs, \u001b[39m*\u001b[39;49m\u001b[39m*\u001b[39;49mkwargs)\n\u001b[0;32m    552\u001b[0m     sig \u001b[39m=\u001b[39m inspect\u001b[39m.\u001b[39msignature(func)\n\u001b[0;32m    553\u001b[0m     params: Dict[\u001b[39mstr\u001b[39m, Any] \u001b[39m=\u001b[39m \u001b[39mdict\u001b[39m(\u001b[39m*\u001b[39m\u001b[39m*\u001b[39m\u001b[39mdict\u001b[39m(\u001b[39mzip\u001b[39m(sig\u001b[39m.\u001b[39mparameters, args)), \u001b[39m*\u001b[39m\u001b[39m*\u001b[39mkwargs)\n",
      "File \u001b[1;32mc:\\Users\\ozymandio\\AppData\\Local\\Programs\\Python\\Python311\\Lib\\site-packages\\unstructured\\chunking\\title.py:257\u001b[0m, in \u001b[0;36madd_chunking_strategy.<locals>.decorator.<locals>.wrapper\u001b[1;34m(*args, **kwargs)\u001b[0m\n\u001b[0;32m    255\u001b[0m \u001b[39m@functools\u001b[39m\u001b[39m.\u001b[39mwraps(func)\n\u001b[0;32m    256\u001b[0m \u001b[39mdef\u001b[39;00m \u001b[39mwrapper\u001b[39m(\u001b[39m*\u001b[39margs: _P\u001b[39m.\u001b[39margs, \u001b[39m*\u001b[39m\u001b[39m*\u001b[39mkwargs: _P\u001b[39m.\u001b[39mkwargs) \u001b[39m-\u001b[39m\u001b[39m>\u001b[39m List[Element]:\n\u001b[1;32m--> 257\u001b[0m     elements \u001b[39m=\u001b[39m func(\u001b[39m*\u001b[39;49margs, \u001b[39m*\u001b[39;49m\u001b[39m*\u001b[39;49mkwargs)\n\u001b[0;32m    258\u001b[0m     sig \u001b[39m=\u001b[39m inspect\u001b[39m.\u001b[39msignature(func)\n\u001b[0;32m    259\u001b[0m     params: Dict[\u001b[39mstr\u001b[39m, Any] \u001b[39m=\u001b[39m \u001b[39mdict\u001b[39m(\u001b[39m*\u001b[39m\u001b[39m*\u001b[39m\u001b[39mdict\u001b[39m(\u001b[39mzip\u001b[39m(sig\u001b[39m.\u001b[39mparameters, args)), \u001b[39m*\u001b[39m\u001b[39m*\u001b[39mkwargs)\n",
      "File \u001b[1;32mc:\\Users\\ozymandio\\AppData\\Local\\Programs\\Python\\Python311\\Lib\\site-packages\\unstructured\\partition\\pdf.py:155\u001b[0m, in \u001b[0;36mpartition_pdf\u001b[1;34m(filename, file, include_page_breaks, strategy, infer_table_structure, ocr_languages, languages, max_partition, min_partition, include_metadata, metadata_filename, metadata_last_modified, chunking_strategy, links, **kwargs)\u001b[0m\n\u001b[0;32m    149\u001b[0m         languages \u001b[39m=\u001b[39m convert_old_ocr_languages_to_languages(ocr_languages)\n\u001b[0;32m    150\u001b[0m         logger\u001b[39m.\u001b[39mwarning(\n\u001b[0;32m    151\u001b[0m             \u001b[39m\"\u001b[39m\u001b[39mThe ocr_languages kwarg will be deprecated in a future version of unstructured. \u001b[39m\u001b[39m\"\u001b[39m\n\u001b[0;32m    152\u001b[0m             \u001b[39m\"\u001b[39m\u001b[39mPlease use languages instead.\u001b[39m\u001b[39m\"\u001b[39m,\n\u001b[0;32m    153\u001b[0m         )\n\u001b[1;32m--> 155\u001b[0m \u001b[39mreturn\u001b[39;00m partition_pdf_or_image(\n\u001b[0;32m    156\u001b[0m     filename\u001b[39m=\u001b[39;49mfilename,\n\u001b[0;32m    157\u001b[0m     file\u001b[39m=\u001b[39;49mfile,\n\u001b[0;32m    158\u001b[0m     include_page_breaks\u001b[39m=\u001b[39;49minclude_page_breaks,\n\u001b[0;32m    159\u001b[0m     strategy\u001b[39m=\u001b[39;49mstrategy,\n\u001b[0;32m    160\u001b[0m     infer_table_structure\u001b[39m=\u001b[39;49minfer_table_structure,\n\u001b[0;32m    161\u001b[0m     languages\u001b[39m=\u001b[39;49mlanguages,\n\u001b[0;32m    162\u001b[0m     max_partition\u001b[39m=\u001b[39;49mmax_partition,\n\u001b[0;32m    163\u001b[0m     min_partition\u001b[39m=\u001b[39;49mmin_partition,\n\u001b[0;32m    164\u001b[0m     metadata_last_modified\u001b[39m=\u001b[39;49mmetadata_last_modified,\n\u001b[0;32m    165\u001b[0m     \u001b[39m*\u001b[39;49m\u001b[39m*\u001b[39;49mkwargs,\n\u001b[0;32m    166\u001b[0m )\n",
      "File \u001b[1;32mc:\\Users\\ozymandio\\AppData\\Local\\Programs\\Python\\Python311\\Lib\\site-packages\\unstructured\\partition\\pdf.py:304\u001b[0m, in \u001b[0;36mpartition_pdf_or_image\u001b[1;34m(filename, file, is_image, include_page_breaks, strategy, infer_table_structure, ocr_languages, languages, max_partition, min_partition, metadata_last_modified, **kwargs)\u001b[0m\n\u001b[0;32m    301\u001b[0m \u001b[39melif\u001b[39;00m strategy \u001b[39m==\u001b[39m \u001b[39m\"\u001b[39m\u001b[39mocr_only\u001b[39m\u001b[39m\"\u001b[39m:\n\u001b[0;32m    302\u001b[0m     \u001b[39m# NOTE(robinson): Catches file conversion warnings when running with PDFs\u001b[39;00m\n\u001b[0;32m    303\u001b[0m     \u001b[39mwith\u001b[39;00m warnings\u001b[39m.\u001b[39mcatch_warnings():\n\u001b[1;32m--> 304\u001b[0m         \u001b[39mreturn\u001b[39;00m _partition_pdf_or_image_with_ocr(\n\u001b[0;32m    305\u001b[0m             filename\u001b[39m=\u001b[39;49mfilename,\n\u001b[0;32m    306\u001b[0m             file\u001b[39m=\u001b[39;49mfile,\n\u001b[0;32m    307\u001b[0m             include_page_breaks\u001b[39m=\u001b[39;49minclude_page_breaks,\n\u001b[0;32m    308\u001b[0m             languages\u001b[39m=\u001b[39;49mlanguages,\n\u001b[0;32m    309\u001b[0m             is_image\u001b[39m=\u001b[39;49mis_image,\n\u001b[0;32m    310\u001b[0m             max_partition\u001b[39m=\u001b[39;49mmax_partition,\n\u001b[0;32m    311\u001b[0m             min_partition\u001b[39m=\u001b[39;49mmin_partition,\n\u001b[0;32m    312\u001b[0m             metadata_last_modified\u001b[39m=\u001b[39;49mmetadata_last_modified \u001b[39mor\u001b[39;49;00m last_modification_date,\n\u001b[0;32m    313\u001b[0m         )\n\u001b[0;32m    315\u001b[0m \u001b[39mreturn\u001b[39;00m layout_elements\n",
      "File \u001b[1;32mc:\\Users\\ozymandio\\AppData\\Local\\Programs\\Python\\Python311\\Lib\\site-packages\\unstructured\\utils.py:159\u001b[0m, in \u001b[0;36mrequires_dependencies.<locals>.decorator.<locals>.wrapper\u001b[1;34m(*args, **kwargs)\u001b[0m\n\u001b[0;32m    150\u001b[0m \u001b[39mif\u001b[39;00m \u001b[39mlen\u001b[39m(missing_deps) \u001b[39m>\u001b[39m \u001b[39m0\u001b[39m:\n\u001b[0;32m    151\u001b[0m     \u001b[39mraise\u001b[39;00m \u001b[39mImportError\u001b[39;00m(\n\u001b[0;32m    152\u001b[0m         \u001b[39mf\u001b[39m\u001b[39m\"\u001b[39m\u001b[39mFollowing dependencies are missing: \u001b[39m\u001b[39m{\u001b[39;00m\u001b[39m'\u001b[39m\u001b[39m, \u001b[39m\u001b[39m'\u001b[39m\u001b[39m.\u001b[39mjoin(missing_deps)\u001b[39m}\u001b[39;00m\u001b[39m. \u001b[39m\u001b[39m\"\u001b[39m\n\u001b[0;32m    153\u001b[0m         \u001b[39m+\u001b[39m (\n\u001b[1;32m   (...)\u001b[0m\n\u001b[0;32m    157\u001b[0m         ),\n\u001b[0;32m    158\u001b[0m     )\n\u001b[1;32m--> 159\u001b[0m \u001b[39mreturn\u001b[39;00m func(\u001b[39m*\u001b[39;49margs, \u001b[39m*\u001b[39;49m\u001b[39m*\u001b[39;49mkwargs)\n",
      "File \u001b[1;32mc:\\Users\\ozymandio\\AppData\\Local\\Programs\\Python\\Python311\\Lib\\site-packages\\unstructured\\partition\\pdf.py:795\u001b[0m, in \u001b[0;36m_partition_pdf_or_image_with_ocr\u001b[1;34m(filename, file, include_page_breaks, languages, is_image, max_partition, min_partition, metadata_last_modified)\u001b[0m\n\u001b[0;32m    788\u001b[0m page_number \u001b[39m+\u001b[39m\u001b[39m=\u001b[39m \u001b[39m1\u001b[39m\n\u001b[0;32m    789\u001b[0m metadata \u001b[39m=\u001b[39m ElementMetadata(\n\u001b[0;32m    790\u001b[0m     filename\u001b[39m=\u001b[39mfilename,\n\u001b[0;32m    791\u001b[0m     page_number\u001b[39m=\u001b[39mpage_number,\n\u001b[0;32m    792\u001b[0m     last_modified\u001b[39m=\u001b[39mmetadata_last_modified,\n\u001b[0;32m    793\u001b[0m     languages\u001b[39m=\u001b[39mlanguages,\n\u001b[0;32m    794\u001b[0m )\n\u001b[1;32m--> 795\u001b[0m _text, _bboxes \u001b[39m=\u001b[39m unstructured_pytesseract\u001b[39m.\u001b[39;49mrun_and_get_multiple_output(\n\u001b[0;32m    796\u001b[0m     image,\n\u001b[0;32m    797\u001b[0m     extensions\u001b[39m=\u001b[39;49m[\u001b[39m\"\u001b[39;49m\u001b[39mtxt\u001b[39;49m\u001b[39m\"\u001b[39;49m, \u001b[39m\"\u001b[39;49m\u001b[39mbox\u001b[39;49m\u001b[39m\"\u001b[39;49m],\n\u001b[0;32m    798\u001b[0m     lang\u001b[39m=\u001b[39;49mocr_languages,\n\u001b[0;32m    799\u001b[0m )\n\u001b[0;32m    800\u001b[0m width, height \u001b[39m=\u001b[39m image\u001b[39m.\u001b[39msize\n\u001b[0;32m    802\u001b[0m _elements \u001b[39m=\u001b[39m partition_text(\n\u001b[0;32m    803\u001b[0m     text\u001b[39m=\u001b[39m_text,\n\u001b[0;32m    804\u001b[0m     max_partition\u001b[39m=\u001b[39mmax_partition,\n\u001b[0;32m    805\u001b[0m     min_partition\u001b[39m=\u001b[39mmin_partition,\n\u001b[0;32m    806\u001b[0m )\n",
      "File \u001b[1;32mc:\\Users\\ozymandio\\AppData\\Local\\Programs\\Python\\Python311\\Lib\\site-packages\\unstructured_pytesseract\\pytesseract.py:316\u001b[0m, in \u001b[0;36mrun_and_get_multiple_output\u001b[1;34m(image, extensions, lang, nice, timeout, return_bytes)\u001b[0m\n\u001b[0;32m    305\u001b[0m \u001b[39mwith\u001b[39;00m save(image) \u001b[39mas\u001b[39;00m (temp_name, input_filename):\n\u001b[0;32m    306\u001b[0m     kwargs \u001b[39m=\u001b[39m {\n\u001b[0;32m    307\u001b[0m         \u001b[39m'\u001b[39m\u001b[39minput_filename\u001b[39m\u001b[39m'\u001b[39m: input_filename,\n\u001b[0;32m    308\u001b[0m         \u001b[39m'\u001b[39m\u001b[39moutput_filename_base\u001b[39m\u001b[39m'\u001b[39m: temp_name,\n\u001b[1;32m   (...)\u001b[0m\n\u001b[0;32m    313\u001b[0m         \u001b[39m'\u001b[39m\u001b[39mtimeout\u001b[39m\u001b[39m'\u001b[39m: timeout,\n\u001b[0;32m    314\u001b[0m     }\n\u001b[1;32m--> 316\u001b[0m     run_tesseract(\u001b[39m*\u001b[39;49m\u001b[39m*\u001b[39;49mkwargs)\n\u001b[0;32m    318\u001b[0m     \u001b[39mreturn\u001b[39;00m [\n\u001b[0;32m    319\u001b[0m         _read_output(\n\u001b[0;32m    320\u001b[0m             \u001b[39mf\u001b[39m\u001b[39m\"\u001b[39m\u001b[39m{\u001b[39;00mkwargs[\u001b[39m'\u001b[39m\u001b[39moutput_filename_base\u001b[39m\u001b[39m'\u001b[39m]\u001b[39m}\u001b[39;00m\u001b[39m{\u001b[39;00mextsep\u001b[39m}\u001b[39;00m\u001b[39m{\u001b[39;00mextension\u001b[39m}\u001b[39;00m\u001b[39m\"\u001b[39m,\n\u001b[1;32m   (...)\u001b[0m\n\u001b[0;32m    323\u001b[0m         \u001b[39mfor\u001b[39;00m extension \u001b[39min\u001b[39;00m extensions\n\u001b[0;32m    324\u001b[0m     ]\n",
      "File \u001b[1;32mc:\\Users\\ozymandio\\AppData\\Local\\Programs\\Python\\Python311\\Lib\\site-packages\\unstructured_pytesseract\\pytesseract.py:275\u001b[0m, in \u001b[0;36mrun_tesseract\u001b[1;34m(input_filename, output_filename_base, extension, lang, config, nice, timeout)\u001b[0m\n\u001b[0;32m    273\u001b[0m         \u001b[39mraise\u001b[39;00m\n\u001b[0;32m    274\u001b[0m     \u001b[39melse\u001b[39;00m:\n\u001b[1;32m--> 275\u001b[0m         \u001b[39mraise\u001b[39;00m TesseractNotFoundError()\n\u001b[0;32m    277\u001b[0m \u001b[39mwith\u001b[39;00m timeout_manager(proc, timeout) \u001b[39mas\u001b[39;00m error_string:\n\u001b[0;32m    278\u001b[0m     \u001b[39mif\u001b[39;00m proc\u001b[39m.\u001b[39mreturncode:\n",
      "\u001b[1;31mTesseractNotFoundError\u001b[0m: tesseract is not installed or it's not in your PATH. See README file for more information."
     ]
    }
   ],
   "source": [
    "data = loader.load()\n",
    "print(f'You have {len(data)} documents in your data')"
   ]
  },
  {
   "cell_type": "code",
   "execution_count": null,
   "metadata": {},
   "outputs": [],
   "source": [
    "text_splitter = RecursiveCharacterTextSplitter(chunk_size=2000, chunk_overlap=50)\n",
    "texts = text_splitter.split_documents(data)"
   ]
  },
  {
   "cell_type": "code",
   "execution_count": null,
   "metadata": {},
   "outputs": [
    {
     "name": "stdout",
     "output_type": "stream",
     "text": [
      "You now have 0 texts in your data\n"
     ]
    }
   ],
   "source": [
    "print(f'You now have {len(texts)} texts in your data')"
   ]
  },
  {
   "cell_type": "code",
   "execution_count": null,
   "metadata": {},
   "outputs": [],
   "source": [
    "from langchain.vectorstores import Chroma, Pinecone\n",
    "from langchain.embeddings.openai import OpenAIEmbeddings\n",
    "from langchain.llms import OpenAI\n",
    "from langchain.chains.question_answering import load_qa_chain"
   ]
  },
  {
   "cell_type": "code",
   "execution_count": null,
   "metadata": {},
   "outputs": [
    {
     "ename": "IndexError",
     "evalue": "list index out of range",
     "output_type": "error",
     "traceback": [
      "\u001b[1;31m---------------------------------------------------------------------------\u001b[0m",
      "\u001b[1;31mIndexError\u001b[0m                                Traceback (most recent call last)",
      "\u001b[1;32md:\\code\\Epic-Law\\langchain_test.ipynb Cell 7\u001b[0m line \u001b[0;36m2\n\u001b[0;32m      <a href='vscode-notebook-cell:/d%3A/code/Epic-Law/langchain_test.ipynb#W6sZmlsZQ%3D%3D?line=0'>1</a>\u001b[0m embeddings_model \u001b[39m=\u001b[39m OpenAIEmbeddings(openai_api_key\u001b[39m=\u001b[39mapi_key)\n\u001b[1;32m----> <a href='vscode-notebook-cell:/d%3A/code/Epic-Law/langchain_test.ipynb#W6sZmlsZQ%3D%3D?line=1'>2</a>\u001b[0m doc_search \u001b[39m=\u001b[39m Chroma\u001b[39m.\u001b[39;49mfrom_documents(texts, embeddings_model)\n",
      "File \u001b[1;32mc:\\Users\\ozymandio\\AppData\\Local\\Programs\\Python\\Python311\\Lib\\site-packages\\langchain\\vectorstores\\chroma.py:646\u001b[0m, in \u001b[0;36mChroma.from_documents\u001b[1;34m(cls, documents, embedding, ids, collection_name, persist_directory, client_settings, client, collection_metadata, **kwargs)\u001b[0m\n\u001b[0;32m    644\u001b[0m texts \u001b[39m=\u001b[39m [doc\u001b[39m.\u001b[39mpage_content \u001b[39mfor\u001b[39;00m doc \u001b[39min\u001b[39;00m documents]\n\u001b[0;32m    645\u001b[0m metadatas \u001b[39m=\u001b[39m [doc\u001b[39m.\u001b[39mmetadata \u001b[39mfor\u001b[39;00m doc \u001b[39min\u001b[39;00m documents]\n\u001b[1;32m--> 646\u001b[0m \u001b[39mreturn\u001b[39;00m \u001b[39mcls\u001b[39;49m\u001b[39m.\u001b[39;49mfrom_texts(\n\u001b[0;32m    647\u001b[0m     texts\u001b[39m=\u001b[39;49mtexts,\n\u001b[0;32m    648\u001b[0m     embedding\u001b[39m=\u001b[39;49membedding,\n\u001b[0;32m    649\u001b[0m     metadatas\u001b[39m=\u001b[39;49mmetadatas,\n\u001b[0;32m    650\u001b[0m     ids\u001b[39m=\u001b[39;49mids,\n\u001b[0;32m    651\u001b[0m     collection_name\u001b[39m=\u001b[39;49mcollection_name,\n\u001b[0;32m    652\u001b[0m     persist_directory\u001b[39m=\u001b[39;49mpersist_directory,\n\u001b[0;32m    653\u001b[0m     client_settings\u001b[39m=\u001b[39;49mclient_settings,\n\u001b[0;32m    654\u001b[0m     client\u001b[39m=\u001b[39;49mclient,\n\u001b[0;32m    655\u001b[0m     collection_metadata\u001b[39m=\u001b[39;49mcollection_metadata,\n\u001b[0;32m    656\u001b[0m     \u001b[39m*\u001b[39;49m\u001b[39m*\u001b[39;49mkwargs,\n\u001b[0;32m    657\u001b[0m )\n",
      "File \u001b[1;32mc:\\Users\\ozymandio\\AppData\\Local\\Programs\\Python\\Python311\\Lib\\site-packages\\langchain\\vectorstores\\chroma.py:610\u001b[0m, in \u001b[0;36mChroma.from_texts\u001b[1;34m(cls, texts, embedding, metadatas, ids, collection_name, persist_directory, client_settings, client, collection_metadata, **kwargs)\u001b[0m\n\u001b[0;32m    582\u001b[0m \u001b[39m\u001b[39m\u001b[39m\"\"\"Create a Chroma vectorstore from a raw documents.\u001b[39;00m\n\u001b[0;32m    583\u001b[0m \n\u001b[0;32m    584\u001b[0m \u001b[39mIf a persist_directory is specified, the collection will be persisted there.\u001b[39;00m\n\u001b[1;32m   (...)\u001b[0m\n\u001b[0;32m    599\u001b[0m \u001b[39m    Chroma: Chroma vectorstore.\u001b[39;00m\n\u001b[0;32m    600\u001b[0m \u001b[39m\"\"\"\u001b[39;00m\n\u001b[0;32m    601\u001b[0m chroma_collection \u001b[39m=\u001b[39m \u001b[39mcls\u001b[39m(\n\u001b[0;32m    602\u001b[0m     collection_name\u001b[39m=\u001b[39mcollection_name,\n\u001b[0;32m    603\u001b[0m     embedding_function\u001b[39m=\u001b[39membedding,\n\u001b[1;32m   (...)\u001b[0m\n\u001b[0;32m    608\u001b[0m     \u001b[39m*\u001b[39m\u001b[39m*\u001b[39mkwargs,\n\u001b[0;32m    609\u001b[0m )\n\u001b[1;32m--> 610\u001b[0m chroma_collection\u001b[39m.\u001b[39;49madd_texts(texts\u001b[39m=\u001b[39;49mtexts, metadatas\u001b[39m=\u001b[39;49mmetadatas, ids\u001b[39m=\u001b[39;49mids)\n\u001b[0;32m    611\u001b[0m \u001b[39mreturn\u001b[39;00m chroma_collection\n",
      "File \u001b[1;32mc:\\Users\\ozymandio\\AppData\\Local\\Programs\\Python\\Python311\\Lib\\site-packages\\langchain\\vectorstores\\chroma.py:237\u001b[0m, in \u001b[0;36mChroma.add_texts\u001b[1;34m(self, texts, metadatas, ids, **kwargs)\u001b[0m\n\u001b[0;32m    231\u001b[0m         \u001b[39mself\u001b[39m\u001b[39m.\u001b[39m_collection\u001b[39m.\u001b[39mupsert(\n\u001b[0;32m    232\u001b[0m             embeddings\u001b[39m=\u001b[39membeddings_without_metadatas,\n\u001b[0;32m    233\u001b[0m             documents\u001b[39m=\u001b[39mtexts_without_metadatas,\n\u001b[0;32m    234\u001b[0m             ids\u001b[39m=\u001b[39mids_without_metadatas,\n\u001b[0;32m    235\u001b[0m         )\n\u001b[0;32m    236\u001b[0m \u001b[39melse\u001b[39;00m:\n\u001b[1;32m--> 237\u001b[0m     \u001b[39mself\u001b[39;49m\u001b[39m.\u001b[39;49m_collection\u001b[39m.\u001b[39;49mupsert(\n\u001b[0;32m    238\u001b[0m         embeddings\u001b[39m=\u001b[39;49membeddings,\n\u001b[0;32m    239\u001b[0m         documents\u001b[39m=\u001b[39;49mtexts,\n\u001b[0;32m    240\u001b[0m         ids\u001b[39m=\u001b[39;49mids,\n\u001b[0;32m    241\u001b[0m     )\n\u001b[0;32m    242\u001b[0m \u001b[39mreturn\u001b[39;00m ids\n",
      "File \u001b[1;32mc:\\Users\\ozymandio\\AppData\\Local\\Programs\\Python\\Python311\\Lib\\site-packages\\chromadb\\api\\models\\Collection.py:295\u001b[0m, in \u001b[0;36mCollection.upsert\u001b[1;34m(self, ids, embeddings, metadatas, documents)\u001b[0m\n\u001b[0;32m    276\u001b[0m \u001b[39mdef\u001b[39;00m \u001b[39mupsert\u001b[39m(\n\u001b[0;32m    277\u001b[0m     \u001b[39mself\u001b[39m,\n\u001b[0;32m    278\u001b[0m     ids: OneOrMany[ID],\n\u001b[1;32m   (...)\u001b[0m\n\u001b[0;32m    281\u001b[0m     documents: Optional[OneOrMany[Document]] \u001b[39m=\u001b[39m \u001b[39mNone\u001b[39;00m,\n\u001b[0;32m    282\u001b[0m ) \u001b[39m-\u001b[39m\u001b[39m>\u001b[39m \u001b[39mNone\u001b[39;00m:\n\u001b[0;32m    283\u001b[0m \u001b[39m    \u001b[39m\u001b[39m\"\"\"Update the embeddings, metadatas or documents for provided ids, or create them if they don't exist.\u001b[39;00m\n\u001b[0;32m    284\u001b[0m \n\u001b[0;32m    285\u001b[0m \u001b[39m    Args:\u001b[39;00m\n\u001b[1;32m   (...)\u001b[0m\n\u001b[0;32m    292\u001b[0m \u001b[39m        None\u001b[39;00m\n\u001b[0;32m    293\u001b[0m \u001b[39m    \"\"\"\u001b[39;00m\n\u001b[1;32m--> 295\u001b[0m     ids, embeddings, metadatas, documents \u001b[39m=\u001b[39m \u001b[39mself\u001b[39;49m\u001b[39m.\u001b[39;49m_validate_embedding_set(\n\u001b[0;32m    296\u001b[0m         ids, embeddings, metadatas, documents\n\u001b[0;32m    297\u001b[0m     )\n\u001b[0;32m    299\u001b[0m     \u001b[39mself\u001b[39m\u001b[39m.\u001b[39m_client\u001b[39m.\u001b[39m_upsert(\n\u001b[0;32m    300\u001b[0m         collection_id\u001b[39m=\u001b[39m\u001b[39mself\u001b[39m\u001b[39m.\u001b[39mid,\n\u001b[0;32m    301\u001b[0m         ids\u001b[39m=\u001b[39mids,\n\u001b[1;32m   (...)\u001b[0m\n\u001b[0;32m    304\u001b[0m         documents\u001b[39m=\u001b[39mdocuments,\n\u001b[0;32m    305\u001b[0m     )\n",
      "File \u001b[1;32mc:\\Users\\ozymandio\\AppData\\Local\\Programs\\Python\\Python311\\Lib\\site-packages\\chromadb\\api\\models\\Collection.py:347\u001b[0m, in \u001b[0;36mCollection._validate_embedding_set\u001b[1;34m(self, ids, embeddings, metadatas, documents, require_embeddings_or_documents)\u001b[0m\n\u001b[0;32m    334\u001b[0m \u001b[39mdef\u001b[39;00m \u001b[39m_validate_embedding_set\u001b[39m(\n\u001b[0;32m    335\u001b[0m     \u001b[39mself\u001b[39m,\n\u001b[0;32m    336\u001b[0m     ids: OneOrMany[ID],\n\u001b[1;32m   (...)\u001b[0m\n\u001b[0;32m    345\u001b[0m     Optional[List[Document]],\n\u001b[0;32m    346\u001b[0m ]:\n\u001b[1;32m--> 347\u001b[0m     ids \u001b[39m=\u001b[39m validate_ids(maybe_cast_one_to_many(ids))\n\u001b[0;32m    348\u001b[0m     embeddings \u001b[39m=\u001b[39m (\n\u001b[0;32m    349\u001b[0m         validate_embeddings(maybe_cast_one_to_many(embeddings))\n\u001b[0;32m    350\u001b[0m         \u001b[39mif\u001b[39;00m embeddings \u001b[39mis\u001b[39;00m \u001b[39mnot\u001b[39;00m \u001b[39mNone\u001b[39;00m\n\u001b[0;32m    351\u001b[0m         \u001b[39melse\u001b[39;00m \u001b[39mNone\u001b[39;00m\n\u001b[0;32m    352\u001b[0m     )\n\u001b[0;32m    353\u001b[0m     metadatas \u001b[39m=\u001b[39m (\n\u001b[0;32m    354\u001b[0m         validate_metadatas(maybe_cast_one_to_many(metadatas))\n\u001b[0;32m    355\u001b[0m         \u001b[39mif\u001b[39;00m metadatas \u001b[39mis\u001b[39;00m \u001b[39mnot\u001b[39;00m \u001b[39mNone\u001b[39;00m\n\u001b[0;32m    356\u001b[0m         \u001b[39melse\u001b[39;00m \u001b[39mNone\u001b[39;00m\n\u001b[0;32m    357\u001b[0m     )\n",
      "File \u001b[1;32mc:\\Users\\ozymandio\\AppData\\Local\\Programs\\Python\\Python311\\Lib\\site-packages\\chromadb\\api\\types.py:99\u001b[0m, in \u001b[0;36mmaybe_cast_one_to_many\u001b[1;34m(target)\u001b[0m\n\u001b[0;32m     97\u001b[0m         \u001b[39mreturn\u001b[39;00m [target]\n\u001b[0;32m     98\u001b[0m     \u001b[39m# One Embedding\u001b[39;00m\n\u001b[1;32m---> 99\u001b[0m     \u001b[39mif\u001b[39;00m \u001b[39misinstance\u001b[39m(target[\u001b[39m0\u001b[39;49m], (\u001b[39mint\u001b[39m, \u001b[39mfloat\u001b[39m)):\n\u001b[0;32m    100\u001b[0m         \u001b[39mreturn\u001b[39;00m [target]  \u001b[39m# type: ignore\u001b[39;00m\n\u001b[0;32m    101\u001b[0m \u001b[39m# One Metadata dict\u001b[39;00m\n",
      "\u001b[1;31mIndexError\u001b[0m: list index out of range"
     ]
    }
   ],
   "source": [
    "embeddings_model = OpenAIEmbeddings(openai_api_key=api_key)\n",
    "doc_search = Chroma.from_documents(texts, embeddings_model)"
   ]
  },
  {
   "cell_type": "code",
   "execution_count": null,
   "metadata": {},
   "outputs": [],
   "source": [
    "# query = \"Premium Changes\"\n",
    "# docs = doc_search.similarity_search(query, k=5)"
   ]
  },
  {
   "cell_type": "code",
   "execution_count": null,
   "metadata": {},
   "outputs": [],
   "source": [
    "# print(docs[0].page_content[:450])"
   ]
  },
  {
   "cell_type": "code",
   "execution_count": null,
   "metadata": {},
   "outputs": [],
   "source": [
    "llm = OpenAI(temperature=1, openai_api_key=api_key)\n",
    "chain = load_qa_chain(llm, chain_type=\"stuff\")"
   ]
  },
  {
   "cell_type": "code",
   "execution_count": null,
   "metadata": {},
   "outputs": [],
   "source": [
    "query = \"Give me a summary of the events happened and any injuries sustained.\"\n",
    "docs = doc_search.similarity_search(query)"
   ]
  },
  {
   "cell_type": "code",
   "execution_count": null,
   "metadata": {},
   "outputs": [
    {
     "data": {
      "text/plain": [
       "' This policy covers bodily injury caused by an uninsured auto. The policyholder must inform the insurance company if anyone is sued for a motor vehicle accident and cooperate in the investigation and settlement of the claim. There is a limit of liability for all damages caused by a single accident and any injured person may be required to take medical examinations. The policy also states subrogation rights and that combining limits of two or more autos is not allowed. If a disagreement arises between the insured person and the company, they must mutually agree to arbitration or resolve it in a court of competent jurisdiction.'"
      ]
     },
     "execution_count": 23,
     "metadata": {},
     "output_type": "execute_result"
    }
   ],
   "source": [
    "chain.run(input_documents=docs, question=query)"
   ]
  }
 ],
 "metadata": {
  "kernelspec": {
   "display_name": "Python 3",
   "language": "python",
   "name": "python3"
  },
  "language_info": {
   "codemirror_mode": {
    "name": "ipython",
    "version": 3
   },
   "file_extension": ".py",
   "mimetype": "text/x-python",
   "name": "python",
   "nbconvert_exporter": "python",
   "pygments_lexer": "ipython3",
   "version": "3.11.4"
  }
 },
 "nbformat": 4,
 "nbformat_minor": 2
}
